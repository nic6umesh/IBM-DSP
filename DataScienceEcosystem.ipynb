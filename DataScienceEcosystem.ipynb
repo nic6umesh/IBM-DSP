{
 "cells": [
  {
   "cell_type": "markdown",
   "id": "ba8b7ac0-bbfa-4963-a672-68b51009d1a6",
   "metadata": {
    "tags": []
   },
   "source": [
    "# Data Science Tools and Ecosystem"
   ]
  },
  {
   "cell_type": "markdown",
   "id": "d5897d77-6dc5-4d11-a586-7c0515097ec9",
   "metadata": {},
   "source": [
    "In this notebook, Data Science Tools and Ecosystem are summarized."
   ]
  },
  {
   "cell_type": "markdown",
   "id": "1b5e11e0-15c9-4ee1-b630-e3f2715ed3f8",
   "metadata": {},
   "source": [
    "**Objectives:**\n",
    "* List popular languages for Data Science\n",
    "* List popular libraries for Data Science\n",
    "* List popular tools for Data Science"
   ]
  },
  {
   "cell_type": "markdown",
   "id": "e8820cf5-9d37-44ae-92a0-300719d064ff",
   "metadata": {},
   "source": [
    "Some of the popular languages that Data Scientists use are:\n",
    "1. Python\n",
    "2. SQL\n",
    "3. R\n",
    "4. VBA (Visual Basic for Applications)"
   ]
  },
  {
   "cell_type": "markdown",
   "id": "f8cfdec2-7d7e-42b0-9284-12c23ae17b4f",
   "metadata": {},
   "source": [
    "Some of the commonly used libraries used by Data Scientists include:\n",
    "1. TensorFlow\n",
    "2. NumPy\n",
    "3. SciPy\n",
    "4. Pandas "
   ]
  },
  {
   "cell_type": "markdown",
   "id": "bb015ae5-9fcd-4a5c-add4-f862814794e2",
   "metadata": {},
   "source": [
    "| Data Science Tools |\n",
    "----------------------\n",
    "|Pandas|\n",
    "|NumPy|\n",
    "|Scikit-learn|\n"
   ]
  },
  {
   "cell_type": "markdown",
   "id": "62efa354-49a2-42d9-ba19-9b6da2c87493",
   "metadata": {},
   "source": [
    "### Below are a few examples of evaluating arithmetic expressions in Python"
   ]
  },
  {
   "cell_type": "code",
   "execution_count": 2,
   "id": "2435a9b2-72c9-4c06-8105-3aeff9ad4be7",
   "metadata": {
    "tags": []
   },
   "outputs": [
    {
     "data": {
      "text/plain": [
       "17"
      ]
     },
     "execution_count": 2,
     "metadata": {},
     "output_type": "execute_result"
    }
   ],
   "source": [
    "#This a simple arithmetic expression to mutiply then add integers\n",
    "(3*4)+5"
   ]
  },
  {
   "cell_type": "code",
   "execution_count": 3,
   "id": "672a5e5b-51bb-4303-a02a-6c8431b604f9",
   "metadata": {
    "tags": []
   },
   "outputs": [
    {
     "data": {
      "text/plain": [
       "3.3333333333333335"
      ]
     },
     "execution_count": 3,
     "metadata": {},
     "output_type": "execute_result"
    }
   ],
   "source": [
    "#This will convert 200 minutes to hours by diving by 60\n",
    "200/60"
   ]
  },
  {
   "cell_type": "markdown",
   "id": "ec9ee33a-fd96-4bf8-9289-a531aa55b7a0",
   "metadata": {
    "tags": []
   },
   "source": [
    "## Author\n",
    "Umesh Joshi"
   ]
  },
  {
   "cell_type": "code",
   "execution_count": null,
   "id": "17ca6d0b-94b4-4c48-acdf-49bad229beed",
   "metadata": {},
   "outputs": [],
   "source": []
  }
 ],
 "metadata": {
  "kernelspec": {
   "display_name": "Python",
   "language": "python",
   "name": "conda-env-python-py"
  },
  "language_info": {
   "codemirror_mode": {
    "name": "ipython",
    "version": 3
   },
   "file_extension": ".py",
   "mimetype": "text/x-python",
   "name": "python",
   "nbconvert_exporter": "python",
   "pygments_lexer": "ipython3",
   "version": "3.7.12"
  }
 },
 "nbformat": 4,
 "nbformat_minor": 5
}
